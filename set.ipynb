{
 "cells": [
  {
   "cell_type": "code",
   "execution_count": 20,
   "source": [
    "# นักเรียน ห้อง 1 มีนักเรียนทั้งหมด 50 คน สอบคณิตผ่าน 35 คน สอบสังคม 35 คน  สอบผ่านทั้ง 25 คน จงหาคนสอยไม่ผ่าน\r\n",
    "U  = set()\r\n",
    "A = set()\r\n",
    "B = set()\r\n",
    "U = {int(e) for e in range(1,51)}\r\n",
    "\r\n",
    "for i in U:\r\n",
    "         if i <= 25 :\r\n",
    "                  A.add(i)\r\n",
    "                  B.add(i)\r\n",
    "         elif i > 25 and i <= 35:\r\n",
    "                  A.add(i)\r\n",
    "         elif i > 35 and i < 46:\r\n",
    "                  B.add(i)\r\n",
    "\r\n",
    "        \r\n",
    "print(\"{} จำนวนสมาชิก {} {}\".format(\"A = \",len(A),A))\r\n",
    "print(\"{} จำนวนสมาชิก {} {}\".format(\"B = \",len(B),B))\r\n",
    "print(\"A intersection B จำนวนสมาชิก = {} {}\".format(len(A.intersection(B)),A.intersection(B)))\r\n",
    "#จากสูตร n(A union B) = n(A) + n(B) - n(A interesttion B) \r\n",
    "print(\"จำนวนนักศึกษาที่สอบไม่ผ่าน {} คน\".format(len(U) - (len(A)+len(B) - len(A.intersection(B)))))\r\n",
    "\r\n",
    "\r\n"
   ],
   "outputs": [
    {
     "output_type": "stream",
     "name": "stdout",
     "text": [
      "A =  จำนวนสมาชิก 35 {1, 2, 3, 4, 5, 6, 7, 8, 9, 10, 11, 12, 13, 14, 15, 16, 17, 18, 19, 20, 21, 22, 23, 24, 25, 26, 27, 28, 29, 30, 31, 32, 33, 34, 35}\n",
      "B =  จำนวนสมาชิก 35 {1, 2, 3, 4, 5, 6, 7, 8, 9, 10, 11, 12, 13, 14, 15, 16, 17, 18, 19, 20, 21, 22, 23, 24, 25, 36, 37, 38, 39, 40, 41, 42, 43, 44, 45}\n",
      "A intersection B จำนวนสมาชิก = 25 {1, 2, 3, 4, 5, 6, 7, 8, 9, 10, 11, 12, 13, 14, 15, 16, 17, 18, 19, 20, 21, 22, 23, 24, 25}\n",
      "จำนวนนักศึกษาที่สอบไม่ผ่าน 5 คน\n"
     ]
    }
   ],
   "metadata": {}
  }
 ],
 "metadata": {
  "orig_nbformat": 4,
  "language_info": {
   "name": "python",
   "version": "3.7.4",
   "mimetype": "text/x-python",
   "codemirror_mode": {
    "name": "ipython",
    "version": 3
   },
   "pygments_lexer": "ipython3",
   "nbconvert_exporter": "python",
   "file_extension": ".py"
  },
  "kernelspec": {
   "name": "python3",
   "display_name": "Python 3.7.4 64-bit ('base': conda)"
  },
  "interpreter": {
   "hash": "3d7ae81bd4269cea30be3a7bd3718820557958b837614ab9e83a174814ebfe15"
  }
 },
 "nbformat": 4,
 "nbformat_minor": 2
}